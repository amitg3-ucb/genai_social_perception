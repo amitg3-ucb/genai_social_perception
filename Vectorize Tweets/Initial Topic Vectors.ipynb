{
 "cells": [
  {
   "cell_type": "markdown",
   "id": "92c7ac78",
   "metadata": {},
   "source": [
    "# 1. Import Packages and Libraries"
   ]
  },
  {
   "cell_type": "code",
   "execution_count": 1,
   "id": "94e1be8d",
   "metadata": {},
   "outputs": [],
   "source": [
    "import pandas as pd\n",
    "import numpy as np\n",
    "import matplotlib.pyplot as plt\n",
    "\n",
    "import tensorflow as tf\n",
    "import keras as k\n",
    "\n",
    "from sklearn.metrics import confusion_matrix, accuracy_score, f1_score, recall_score, precision_score, roc_auc_score, make_scorer\n",
    "from sklearn.model_selection import GridSearchCV, RandomizedSearchCV\n",
    "from sklearn.feature_extraction.text import CountVectorizer\n",
    "\n",
    "import itertools as it\n",
    "import ast\n",
    "import pickle\n",
    "from sklearn.base import clone\n",
    "import datetime\n",
    "import os\n",
    "\n",
    "import multiprocessing as mp\n",
    "import gc\n",
    "import requests\n",
    "%matplotlib inline"
   ]
  },
  {
   "cell_type": "markdown",
   "id": "94deae55",
   "metadata": {},
   "source": [
    "# 2. Read in Data -- Raw Text + Embeddings"
   ]
  },
  {
   "cell_type": "code",
   "execution_count": 2,
   "id": "bd2103cb",
   "metadata": {},
   "outputs": [
    {
     "data": {
      "text/html": [
       "<div>\n",
       "<style scoped>\n",
       "    .dataframe tbody tr th:only-of-type {\n",
       "        vertical-align: middle;\n",
       "    }\n",
       "\n",
       "    .dataframe tbody tr th {\n",
       "        vertical-align: top;\n",
       "    }\n",
       "\n",
       "    .dataframe thead th {\n",
       "        text-align: right;\n",
       "    }\n",
       "</style>\n",
       "<table border=\"1\" class=\"dataframe\">\n",
       "  <thead>\n",
       "    <tr style=\"text-align: right;\">\n",
       "      <th></th>\n",
       "      <th>Unnamed: 0</th>\n",
       "      <th>Datetime</th>\n",
       "      <th>Tweet Id</th>\n",
       "      <th>Text</th>\n",
       "      <th>Username</th>\n",
       "    </tr>\n",
       "  </thead>\n",
       "  <tbody>\n",
       "    <tr>\n",
       "      <th>0</th>\n",
       "      <td>0</td>\n",
       "      <td>2023-04-19 21:27:19+00:00</td>\n",
       "      <td>1648800467206672384</td>\n",
       "      <td>from studio gangster to synthetic gangster 🎤.....</td>\n",
       "      <td>resembleai</td>\n",
       "    </tr>\n",
       "    <tr>\n",
       "      <th>1</th>\n",
       "      <td>1</td>\n",
       "      <td>2023-04-19 21:27:09+00:00</td>\n",
       "      <td>1648800425540476929</td>\n",
       "      <td>took me some time to find this. i build this #...</td>\n",
       "      <td>devaanparbhoo</td>\n",
       "    </tr>\n",
       "    <tr>\n",
       "      <th>2</th>\n",
       "      <td>2</td>\n",
       "      <td>2023-04-19 21:26:57+00:00</td>\n",
       "      <td>1648800376479715328</td>\n",
       "      <td>mind blowing next wave #generativeai  platform...</td>\n",
       "      <td>timreha</td>\n",
       "    </tr>\n",
       "    <tr>\n",
       "      <th>3</th>\n",
       "      <td>3</td>\n",
       "      <td>2023-04-19 21:26:49+00:00</td>\n",
       "      <td>1648800341193027584</td>\n",
       "      <td>open source generative ai image specialist sta...</td>\n",
       "      <td>VirtReview</td>\n",
       "    </tr>\n",
       "    <tr>\n",
       "      <th>4</th>\n",
       "      <td>4</td>\n",
       "      <td>2023-04-19 21:25:00+00:00</td>\n",
       "      <td>1648799883934203905</td>\n",
       "      <td>are you an #hr leader considering which future...</td>\n",
       "      <td>FrozeElle</td>\n",
       "    </tr>\n",
       "    <tr>\n",
       "      <th>...</th>\n",
       "      <td>...</td>\n",
       "      <td>...</td>\n",
       "      <td>...</td>\n",
       "      <td>...</td>\n",
       "      <td>...</td>\n",
       "    </tr>\n",
       "    <tr>\n",
       "      <th>56216</th>\n",
       "      <td>56216</td>\n",
       "      <td>2022-04-24 16:40:01+00:00</td>\n",
       "      <td>1518268535276904448</td>\n",
       "      <td>understanding generative ai, its impacts and l...</td>\n",
       "      <td>analyticsinme</td>\n",
       "    </tr>\n",
       "    <tr>\n",
       "      <th>56217</th>\n",
       "      <td>56217</td>\n",
       "      <td>2022-04-23 07:23:24+00:00</td>\n",
       "      <td>1517766068592381952</td>\n",
       "      <td>y ya puedes empezar a crear #arte con @thegeni...</td>\n",
       "      <td>iia_es</td>\n",
       "    </tr>\n",
       "    <tr>\n",
       "      <th>56218</th>\n",
       "      <td>56218</td>\n",
       "      <td>2022-04-22 08:20:21+00:00</td>\n",
       "      <td>1517418013812830208</td>\n",
       "      <td>nvidia researchers have developed ganverse3d, ...</td>\n",
       "      <td>VideoGenAI</td>\n",
       "    </tr>\n",
       "    <tr>\n",
       "      <th>56219</th>\n",
       "      <td>56219</td>\n",
       "      <td>2022-04-21 13:15:21+00:00</td>\n",
       "      <td>1517129866403008512</td>\n",
       "      <td>tech trend 2022: เทรนด์เทคโนโลยีสำหรับปี 2022 ...</td>\n",
       "      <td>sitthinuntp</td>\n",
       "    </tr>\n",
       "    <tr>\n",
       "      <th>56220</th>\n",
       "      <td>56220</td>\n",
       "      <td>2022-04-21 08:59:57+00:00</td>\n",
       "      <td>1517065592817209344</td>\n",
       "      <td>hey google, siri, alexa, bixbi: draw me a pict...</td>\n",
       "      <td>VideoGenAI</td>\n",
       "    </tr>\n",
       "  </tbody>\n",
       "</table>\n",
       "<p>56221 rows × 5 columns</p>\n",
       "</div>"
      ],
      "text/plain": [
       "       Unnamed: 0                   Datetime             Tweet Id  \\\n",
       "0               0  2023-04-19 21:27:19+00:00  1648800467206672384   \n",
       "1               1  2023-04-19 21:27:09+00:00  1648800425540476929   \n",
       "2               2  2023-04-19 21:26:57+00:00  1648800376479715328   \n",
       "3               3  2023-04-19 21:26:49+00:00  1648800341193027584   \n",
       "4               4  2023-04-19 21:25:00+00:00  1648799883934203905   \n",
       "...           ...                        ...                  ...   \n",
       "56216       56216  2022-04-24 16:40:01+00:00  1518268535276904448   \n",
       "56217       56217  2022-04-23 07:23:24+00:00  1517766068592381952   \n",
       "56218       56218  2022-04-22 08:20:21+00:00  1517418013812830208   \n",
       "56219       56219  2022-04-21 13:15:21+00:00  1517129866403008512   \n",
       "56220       56220  2022-04-21 08:59:57+00:00  1517065592817209344   \n",
       "\n",
       "                                                    Text       Username  \n",
       "0      from studio gangster to synthetic gangster 🎤.....     resembleai  \n",
       "1      took me some time to find this. i build this #...  devaanparbhoo  \n",
       "2      mind blowing next wave #generativeai  platform...        timreha  \n",
       "3      open source generative ai image specialist sta...     VirtReview  \n",
       "4      are you an #hr leader considering which future...      FrozeElle  \n",
       "...                                                  ...            ...  \n",
       "56216  understanding generative ai, its impacts and l...  analyticsinme  \n",
       "56217  y ya puedes empezar a crear #arte con @thegeni...         iia_es  \n",
       "56218  nvidia researchers have developed ganverse3d, ...     VideoGenAI  \n",
       "56219  tech trend 2022: เทรนด์เทคโนโลยีสำหรับปี 2022 ...    sitthinuntp  \n",
       "56220  hey google, siri, alexa, bixbi: draw me a pict...     VideoGenAI  \n",
       "\n",
       "[56221 rows x 5 columns]"
      ]
     },
     "metadata": {},
     "output_type": "display_data"
    },
    {
     "data": {
      "text/plain": [
       "array([[-0.08370978, -0.0339897 ,  0.00047592, ..., -0.0230935 ,\n",
       "         0.14363675, -0.0207369 ],\n",
       "       [-0.13965364, -0.04326905, -0.01789731, ...,  0.01601694,\n",
       "         0.02931033,  0.02207875],\n",
       "       [-0.06304073,  0.0408164 ,  0.01617974, ...,  0.04231761,\n",
       "        -0.02437175,  0.01193745],\n",
       "       ...,\n",
       "       [-0.05494443, -0.07396349, -0.02731166, ..., -0.00126567,\n",
       "         0.00950922,  0.03049315],\n",
       "       [-0.10864393,  0.04528776,  0.00032811, ..., -0.05297729,\n",
       "        -0.01807566, -0.04011416],\n",
       "       [-0.06801771, -0.03064705,  0.09605097, ...,  0.01945854,\n",
       "        -0.03104803,  0.01419436]])"
      ]
     },
     "metadata": {},
     "output_type": "display_data"
    }
   ],
   "source": [
    "raw_text = pd.read_csv('../GenerativeAI tweets.csv')\n",
    "raw_text['Text'] = raw_text['Text'].str.lower().astype(str)\n",
    "display(raw_text)\n",
    "\n",
    "embeddings = pickle.load(open('genai_tweet_embeddings.pkl','rb'))\n",
    "display(embeddings)"
   ]
  },
  {
   "cell_type": "markdown",
   "id": "c52d8ea1",
   "metadata": {},
   "source": [
    "# 3. Generate Topic Vectors"
   ]
  },
  {
   "cell_type": "code",
   "execution_count": 9,
   "id": "f224d9ee",
   "metadata": {},
   "outputs": [],
   "source": [
    "files = [f'../subtasks/topic_estimation/HFEmbeddingModelsAbstracts/{x}' for x in \n",
    " os.listdir('../subtasks/topic_estimation/HFEmbeddingModelsAbstracts/')]\n",
    "\n",
    "models = [x for x in files if '.h5' in x]\n",
    "\n",
    "topic_results = pd.DataFrame()"
   ]
  },
  {
   "cell_type": "code",
   "execution_count": 10,
   "id": "cc4b0f7b",
   "metadata": {},
   "outputs": [],
   "source": [
    "def scorer_nn1(ytrue, ypred):\n",
    "    \n",
    "    ytrue = ytrue.numpy()\n",
    "    ypred = (ypred.numpy() >= 0.5).astype(int)\n",
    "    \n",
    "    confuse = confusion_matrix(ytrue, ypred)\n",
    "    \n",
    "    score = (confuse.diagonal() / confuse.sum(axis = 1)).mean()\n",
    "    \n",
    "    if pd.isnull(score):\n",
    "        score = 0\n",
    "    return score"
   ]
  },
  {
   "cell_type": "code",
   "execution_count": 14,
   "id": "ba81caa3",
   "metadata": {},
   "outputs": [
    {
     "name": "stderr",
     "output_type": "stream",
     "text": [
      "2023-06-14 14:10:41.024057: I tensorflow/core/platform/cpu_feature_guard.cc:193] This TensorFlow binary is optimized with oneAPI Deep Neural Network Library (oneDNN) to use the following CPU instructions in performance-critical operations:  AVX2 FMA\n",
      "To enable them in other operations, rebuild TensorFlow with the appropriate compiler flags.\n"
     ]
    },
    {
     "name": "stdout",
     "output_type": "stream",
     "text": [
      "1757/1757 [==============================] - 3s 1ms/step\n",
      "1757/1757 [==============================] - 2s 1ms/step\n",
      "1757/1757 [==============================] - 3s 1ms/step\n",
      "1757/1757 [==============================] - 2s 1ms/step\n",
      "1757/1757 [==============================] - 2s 1ms/step\n",
      "1757/1757 [==============================] - 2s 1ms/step\n",
      "1757/1757 [==============================] - 2s 1ms/step\n",
      "1757/1757 [==============================] - 3s 1ms/step\n",
      "1757/1757 [==============================] - 2s 1ms/step\n",
      "1757/1757 [==============================] - 2s 1ms/step\n",
      "1757/1757 [==============================] - 2s 1ms/step\n",
      "1757/1757 [==============================] - 2s 1ms/step\n",
      "1757/1757 [==============================] - 2s 1ms/step\n",
      "1757/1757 [==============================] - 3s 1ms/step\n",
      "1757/1757 [==============================] - 2s 1ms/step\n",
      "1757/1757 [==============================] - 3s 1ms/step\n",
      "1757/1757 [==============================] - 3s 1ms/step\n",
      "1757/1757 [==============================] - 3s 1ms/step\n",
      "1757/1757 [==============================] - 3s 1ms/step\n",
      "1757/1757 [==============================] - 3s 1ms/step\n",
      "1757/1757 [==============================] - 3s 1ms/step\n",
      "1757/1757 [==============================] - 3s 1ms/step\n",
      "1757/1757 [==============================] - 3s 1ms/step\n",
      "1757/1757 [==============================] - 3s 1ms/step\n",
      "1757/1757 [==============================] - 3s 1ms/step\n"
     ]
    }
   ],
   "source": [
    "for fp in models:\n",
    "    \n",
    "    model = k.models.load_model(fp, compile = True, custom_objects = {'scorer_nn1':scorer_nn1})\n",
    "    thresh = pickle.load(open(fp.replace('.h5','.pkl'),'rb'))['best_thresh']\n",
    "    subject = fp.split('/')[-1].replace('.h5','')\n",
    "    \n",
    "    probs = model.predict(embeddings).flatten()\n",
    "    preds = np.array([1 if x>=thresh else 0 for x in probs])\n",
    "    \n",
    "    topic_results[subject] = preds"
   ]
  },
  {
   "cell_type": "code",
   "execution_count": 17,
   "id": "21bbac33",
   "metadata": {},
   "outputs": [
    {
     "data": {
      "text/plain": [
       "Index(['Distributed, Parallel, and Cluster Computing',\n",
       "       'Artificial Intelligence', 'Social and Information Networks',\n",
       "       'Computer Vision and Pattern Recognition', 'Statistics Theory',\n",
       "       'Optimization and Control', 'Graphics', 'Audio and Speech Processing',\n",
       "       'Robotics', 'Image and Video Processing', 'Human-Computer Interaction',\n",
       "       'Quantitative Methods', 'Applications', 'Machine Learning',\n",
       "       'Cryptography and Security', 'Multiagent Systems',\n",
       "       'Information Retrieval', 'Computers and Society', 'Signal Processing',\n",
       "       'Computation and Language', 'Systems and Control', 'Methodology',\n",
       "       'Multimedia', 'Neural and Evolutionary Computing',\n",
       "       'Information Theory'],\n",
       "      dtype='object')"
      ]
     },
     "execution_count": 17,
     "metadata": {},
     "output_type": "execute_result"
    }
   ],
   "source": [
    "topic_results.columns"
   ]
  },
  {
   "cell_type": "code",
   "execution_count": 53,
   "id": "091114cc",
   "metadata": {},
   "outputs": [
    {
     "data": {
      "text/plain": [
       "'took me some time to find this. i build this #nocode #prototype in dec 2018. it’s a reality today, #botsociety #generativeai #ai #gpt https://t.co/1g2jdb3deg'"
      ]
     },
     "execution_count": 53,
     "metadata": {},
     "output_type": "execute_result"
    }
   ],
   "source": [
    "raw_text[topic_results['Human-Computer Interaction'] == 0]['Text'].iloc[0]"
   ]
  },
  {
   "cell_type": "code",
   "execution_count": 62,
   "id": "c5ee86a7",
   "metadata": {},
   "outputs": [],
   "source": [
    "pickle.dump(topic_results,open('initial_topic_vectors.pkl','wb'))"
   ]
  },
  {
   "cell_type": "code",
   "execution_count": null,
   "id": "dd578f74",
   "metadata": {},
   "outputs": [],
   "source": []
  }
 ],
 "metadata": {
  "kernelspec": {
   "display_name": "Python 3",
   "language": "python",
   "name": "python3"
  },
  "language_info": {
   "codemirror_mode": {
    "name": "ipython",
    "version": 3
   },
   "file_extension": ".py",
   "mimetype": "text/x-python",
   "name": "python",
   "nbconvert_exporter": "python",
   "pygments_lexer": "ipython3",
   "version": "3.9.16"
  }
 },
 "nbformat": 4,
 "nbformat_minor": 5
}
